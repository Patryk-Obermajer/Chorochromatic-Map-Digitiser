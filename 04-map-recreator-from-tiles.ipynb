{
 "cells": [
  {
   "cell_type": "code",
   "execution_count": 4,
   "metadata": {},
   "outputs": [
    {
     "name": "stdout",
     "output_type": "stream",
     "text": [
      "Reconstructed image saved as ./reconstructed_map-large-tiles-2-turbo.png\n"
     ]
    }
   ],
   "source": [
    "import os\n",
    "from PIL import Image, ImageDraw\n",
    "\n",
    "# Parameters\n",
    "tile_size = 25\n",
    "original_image_path = r'.\\data\\01-source-map\\winter_rain_potential_hi-res-CLIPPED.png'\n",
    "# log_file_path = './classification_log.txt'\n",
    "log_file_path = './classification_log-hi-res-Large-Tiles-batched-new-train-turbo.txt'\n",
    "\n",
    "# Mapping classes to colours\n",
    "class_colors = {\n",
    "    'Class-0-water': (0, 180, 255),  \n",
    "    'Class-1': (10, 255, 0),       \n",
    "    'Class-2': (30, 255, 255),         \n",
    "    'Class-3': (40, 255, 0),       \n",
    "    'Class-4': (100, 180, 255),    \n",
    "    'Class-5': (150, 180, 255)       \n",
    "}\n",
    "\n",
    "# Load the original image to get its size\n",
    "original_image = Image.open(original_image_path)\n",
    "img_width, img_height = original_image.size\n",
    "\n",
    "# Create a new blank image with the same size\n",
    "reconstructed_image = Image.new('RGB', (img_width, img_height))\n",
    "\n",
    "# Function to draw a tile\n",
    "def draw_tile(draw, x, y, color, tile_size):\n",
    "    box = [x, y, x + tile_size, y + tile_size]\n",
    "    draw.rectangle(box, fill=color)\n",
    "\n",
    "# Read the log file and draw the tiles\n",
    "with open(log_file_path, 'r') as log_file:\n",
    "    draw = ImageDraw.Draw(reconstructed_image)\n",
    "    for line in log_file:\n",
    "        tile_info = line.strip().split(',')\n",
    "        tile_path = tile_info[0]\n",
    "        tile_class = tile_info[1]\n",
    "        tile_name = os.path.basename(tile_path)\n",
    "        \n",
    "        # Extract the x, y coordinates from the tile name\n",
    "        x, y = map(int, tile_name.replace('tile_', '').replace('.png', '').split('_'))\n",
    "        \n",
    "        # Get the color for the class\n",
    "        color = class_colors[tile_class]\n",
    "        \n",
    "        # Draw the tile\n",
    "        draw_tile(draw, x, y, color, tile_size)\n",
    "\n",
    "# Save the reconstructed image\n",
    "reconstructed_image_path = './reconstructed_map-large-tiles-2-turbo.png'\n",
    "reconstructed_image.save(reconstructed_image_path)\n",
    "\n",
    "print(f\"Reconstructed image saved as {reconstructed_image_path}\")\n"
   ]
  }
 ],
 "metadata": {
  "kernelspec": {
   "display_name": "myenv",
   "language": "python",
   "name": "python3"
  },
  "language_info": {
   "codemirror_mode": {
    "name": "ipython",
    "version": 3
   },
   "file_extension": ".py",
   "mimetype": "text/x-python",
   "name": "python",
   "nbconvert_exporter": "python",
   "pygments_lexer": "ipython3",
   "version": "3.10.9"
  }
 },
 "nbformat": 4,
 "nbformat_minor": 2
}
