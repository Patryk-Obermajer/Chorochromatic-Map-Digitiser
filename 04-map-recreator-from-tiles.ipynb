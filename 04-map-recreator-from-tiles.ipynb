{
 "cells": [
  {
   "cell_type": "code",
   "execution_count": 3,
   "metadata": {},
   "outputs": [],
   "source": [
    "import os\n",
    "from PIL import Image, ImageDraw\n",
    "import importlib\n",
    "import config\n"
   ]
  },
  {
   "cell_type": "code",
   "execution_count": 4,
   "metadata": {},
   "outputs": [
    {
     "data": {
      "text/plain": [
       "<module 'config' from 'c:\\\\01 Github Code\\\\Ober-Chorochromatic-Map-Digitiser\\\\Chorochromatic-Map-Digitiser\\\\config.py'>"
      ]
     },
     "execution_count": 4,
     "metadata": {},
     "output_type": "execute_result"
    }
   ],
   "source": [
    "#reload config whenever there are changes\n",
    "importlib.reload(config)"
   ]
  },
  {
   "cell_type": "code",
   "execution_count": 5,
   "metadata": {},
   "outputs": [
    {
     "name": "stdout",
     "output_type": "stream",
     "text": [
      "Reconstructed image saved as ./Reconstructed_WRAP_map.png\n"
     ]
    }
   ],
   "source": [
    "\n",
    "\n",
    "# Parameters straight from config.py\n",
    "tile_size = config.tile_size\n",
    "original_image_path = config.original_image_path\n",
    "log_file_path = config.log_file_path\n",
    "reconstructed_image_path = config.reconstructed_image_path\n",
    "\n",
    "\n",
    "# Matching classes to colours\n",
    "class_colors = {\n",
    "    'Class-0-water': (185, 228, 201),  \n",
    "    'Class-1': (254, 232, 169),       \n",
    "    'Class-2': (250, 200, 83),         \n",
    "    'Class-3': (196, 119, 77),       \n",
    "    'Class-4': (135, 75, 89),    \n",
    "    'Class-5': (114, 56, 77)       \n",
    "}\n",
    "\n",
    "# Load the original image\n",
    "original_image = Image.open(original_image_path)\n",
    "img_width, img_height = original_image.size\n",
    "\n",
    "# and... create a new blank image with the same size\n",
    "reconstructed_image = Image.new('RGB', (img_width, img_height))\n",
    "\n",
    "# Function to draw a tile of the desired size...\n",
    "def draw_tile(draw, x, y, color, tile_size):\n",
    "    box = [x, y, x + tile_size, y + tile_size]\n",
    "    draw.rectangle(box, fill=color)\n",
    "\n",
    "# Read the log file reated in 03-map-tiles-classifier-with-tflite and draw the tiles\n",
    "\n",
    "with open(log_file_path, 'r') as log_file:\n",
    "    draw = ImageDraw.Draw(reconstructed_image)\n",
    "    for line in log_file:\n",
    "        tile_info = line.strip().split(',')\n",
    "        tile_path = tile_info[0]\n",
    "        tile_class = tile_info[1]\n",
    "        tile_name = os.path.basename(tile_path)\n",
    "        \n",
    "        # Extract the x, y coordinates from the tile name\n",
    "        x, y = map(int, tile_name.replace('tile_', '').replace('.png', '').split('_'))\n",
    "        \n",
    "        # get the color\n",
    "        color = class_colors[tile_class]\n",
    "        \n",
    "        # draw the tileeee\n",
    "        draw_tile(draw, x, y, color, tile_size)\n",
    "\n",
    "# save the  image\n",
    "\n",
    "reconstructed_image.save(reconstructed_image_path)\n",
    "\n",
    "print(f\"Reconstructed image saved as {reconstructed_image_path}\")\n"
   ]
  },
  {
   "cell_type": "markdown",
   "metadata": {},
   "source": [
    "And now we just need to apply the world file of the original map and it can be brought into QGIS nice and easy\n",
    "In QGIS, once vectorised, we will need to delete all the feautures of very small area to get rid of the rogue polygons."
   ]
  }
 ],
 "metadata": {
  "kernelspec": {
   "display_name": "myenv",
   "language": "python",
   "name": "python3"
  },
  "language_info": {
   "codemirror_mode": {
    "name": "ipython",
    "version": 3
   },
   "file_extension": ".py",
   "mimetype": "text/x-python",
   "name": "python",
   "nbconvert_exporter": "python",
   "pygments_lexer": "ipython3",
   "version": "3.10.9"
  }
 },
 "nbformat": 4,
 "nbformat_minor": 2
}
