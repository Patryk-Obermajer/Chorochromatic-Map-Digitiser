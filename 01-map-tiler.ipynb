{
 "cells": [
  {
   "cell_type": "markdown",
   "metadata": {},
   "source": [
    "# This script is used to divide the main map into many small tiles"
   ]
  },
  {
   "cell_type": "code",
   "execution_count": 2,
   "metadata": {},
   "outputs": [],
   "source": [
    "from PIL import Image\n",
    "import os\n",
    "import config\n"
   ]
  },
  {
   "cell_type": "code",
   "execution_count": null,
   "metadata": {},
   "outputs": [],
   "source": [
    "\n",
    "def split_image(image_path, tile_size, output_dir):\n",
    "    image = Image.open(image_path)\n",
    "    img_width, img_height = image.size\n",
    "\n",
    "    if not os.path.exists(output_dir):\n",
    "        os.makedirs(output_dir)\n",
    "\n",
    "    for y in range(0, img_height, tile_size):\n",
    "        for x in range(0, img_width, tile_size):\n",
    "            box = (x, y, x + tile_size, y + tile_size)\n",
    "            tile = image.crop(box)\n",
    "            subdir = os.path.join(output_dir, f\"{x//1000}_{y//1000}\")\n",
    "            if not os.path.exists(subdir):\n",
    "                os.makedirs(subdir)\n",
    "            tile.save(f\"{subdir}/tile_{x}_{y}.png\")\n",
    "\n",
    "image_path = config.original_image_path\n",
    "tile_size = config.tile_size\n",
    "split_image(image_path, tile_size, r'.\\data\\02-source-map-tiles')"
   ]
  }
 ],
 "metadata": {
  "kernelspec": {
   "display_name": "Python 3",
   "language": "python",
   "name": "python3"
  },
  "language_info": {
   "codemirror_mode": {
    "name": "ipython",
    "version": 3
   },
   "file_extension": ".py",
   "mimetype": "text/x-python",
   "name": "python",
   "nbconvert_exporter": "python",
   "pygments_lexer": "ipython3",
   "version": "3.12.1"
  }
 },
 "nbformat": 4,
 "nbformat_minor": 2
}
